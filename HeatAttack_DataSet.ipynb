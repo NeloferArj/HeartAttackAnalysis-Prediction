{
 "cells": [
  {
   "cell_type": "code",
   "execution_count": 246,
   "id": "b344adc6-f80f-47d3-898b-84bd1916c684",
   "metadata": {},
   "outputs": [],
   "source": [
    "import pandas as pd\n",
    "import numpy as np\n",
    "import matplotlib.pyplot as plt #histograms\n",
    "import seaborn as sns #heatmap\n",
    "from sklearn.metrics import roc_curve, roc_auc_score\n",
    "from sklearn.metrics import confusion_matrix ,classification_report,precision_score, recall_score ,f1_score \n",
    "\n",
    "from sklearn.model_selection import train_test_split\n",
    "from sklearn.linear_model import LogisticRegression  \n",
    "from sklearn.neighbors import KNeighborsClassifier\n",
    "from sklearn.naive_bayes import GaussianNB\n",
    "from sklearn.svm import SVC \n",
    "import warnings\n",
    "warnings.filterwarnings('ignore')"
   ]
  },
  {
   "cell_type": "code",
   "execution_count": 153,
   "id": "acd775bf-1171-44ed-ae7f-b229d1639dca",
   "metadata": {},
   "outputs": [],
   "source": [
    "data = pd.read_csv('C:/Users/narjum2/Downloads/archive/heart.csv')"
   ]
  },
  {
   "cell_type": "code",
   "execution_count": 154,
   "id": "20e39d31-26e1-4814-af1c-943dc0fffcce",
   "metadata": {},
   "outputs": [
    {
     "data": {
      "text/html": [
       "<div>\n",
       "<style scoped>\n",
       "    .dataframe tbody tr th:only-of-type {\n",
       "        vertical-align: middle;\n",
       "    }\n",
       "\n",
       "    .dataframe tbody tr th {\n",
       "        vertical-align: top;\n",
       "    }\n",
       "\n",
       "    .dataframe thead th {\n",
       "        text-align: right;\n",
       "    }\n",
       "</style>\n",
       "<table border=\"1\" class=\"dataframe\">\n",
       "  <thead>\n",
       "    <tr style=\"text-align: right;\">\n",
       "      <th></th>\n",
       "      <th>age</th>\n",
       "      <th>sex</th>\n",
       "      <th>cp</th>\n",
       "      <th>trtbps</th>\n",
       "      <th>chol</th>\n",
       "      <th>fbs</th>\n",
       "      <th>restecg</th>\n",
       "      <th>thalachh</th>\n",
       "      <th>exng</th>\n",
       "      <th>oldpeak</th>\n",
       "      <th>slp</th>\n",
       "      <th>caa</th>\n",
       "      <th>thall</th>\n",
       "      <th>output</th>\n",
       "    </tr>\n",
       "  </thead>\n",
       "  <tbody>\n",
       "    <tr>\n",
       "      <th>0</th>\n",
       "      <td>63</td>\n",
       "      <td>1</td>\n",
       "      <td>3</td>\n",
       "      <td>145</td>\n",
       "      <td>233</td>\n",
       "      <td>1</td>\n",
       "      <td>0</td>\n",
       "      <td>150</td>\n",
       "      <td>0</td>\n",
       "      <td>2.3</td>\n",
       "      <td>0</td>\n",
       "      <td>0</td>\n",
       "      <td>1</td>\n",
       "      <td>1</td>\n",
       "    </tr>\n",
       "    <tr>\n",
       "      <th>1</th>\n",
       "      <td>37</td>\n",
       "      <td>1</td>\n",
       "      <td>2</td>\n",
       "      <td>130</td>\n",
       "      <td>250</td>\n",
       "      <td>0</td>\n",
       "      <td>1</td>\n",
       "      <td>187</td>\n",
       "      <td>0</td>\n",
       "      <td>3.5</td>\n",
       "      <td>0</td>\n",
       "      <td>0</td>\n",
       "      <td>2</td>\n",
       "      <td>1</td>\n",
       "    </tr>\n",
       "    <tr>\n",
       "      <th>2</th>\n",
       "      <td>41</td>\n",
       "      <td>0</td>\n",
       "      <td>1</td>\n",
       "      <td>130</td>\n",
       "      <td>204</td>\n",
       "      <td>0</td>\n",
       "      <td>0</td>\n",
       "      <td>172</td>\n",
       "      <td>0</td>\n",
       "      <td>1.4</td>\n",
       "      <td>2</td>\n",
       "      <td>0</td>\n",
       "      <td>2</td>\n",
       "      <td>1</td>\n",
       "    </tr>\n",
       "    <tr>\n",
       "      <th>3</th>\n",
       "      <td>56</td>\n",
       "      <td>1</td>\n",
       "      <td>1</td>\n",
       "      <td>120</td>\n",
       "      <td>236</td>\n",
       "      <td>0</td>\n",
       "      <td>1</td>\n",
       "      <td>178</td>\n",
       "      <td>0</td>\n",
       "      <td>0.8</td>\n",
       "      <td>2</td>\n",
       "      <td>0</td>\n",
       "      <td>2</td>\n",
       "      <td>1</td>\n",
       "    </tr>\n",
       "    <tr>\n",
       "      <th>4</th>\n",
       "      <td>57</td>\n",
       "      <td>0</td>\n",
       "      <td>0</td>\n",
       "      <td>120</td>\n",
       "      <td>354</td>\n",
       "      <td>0</td>\n",
       "      <td>1</td>\n",
       "      <td>163</td>\n",
       "      <td>1</td>\n",
       "      <td>0.6</td>\n",
       "      <td>2</td>\n",
       "      <td>0</td>\n",
       "      <td>2</td>\n",
       "      <td>1</td>\n",
       "    </tr>\n",
       "  </tbody>\n",
       "</table>\n",
       "</div>"
      ],
      "text/plain": [
       "   age  sex  cp  trtbps  chol  fbs  restecg  thalachh  exng  oldpeak  slp  \\\n",
       "0   63    1   3     145   233    1        0       150     0      2.3    0   \n",
       "1   37    1   2     130   250    0        1       187     0      3.5    0   \n",
       "2   41    0   1     130   204    0        0       172     0      1.4    2   \n",
       "3   56    1   1     120   236    0        1       178     0      0.8    2   \n",
       "4   57    0   0     120   354    0        1       163     1      0.6    2   \n",
       "\n",
       "   caa  thall  output  \n",
       "0    0      1       1  \n",
       "1    0      2       1  \n",
       "2    0      2       1  \n",
       "3    0      2       1  \n",
       "4    0      2       1  "
      ]
     },
     "execution_count": 154,
     "metadata": {},
     "output_type": "execute_result"
    }
   ],
   "source": [
    "data.head()"
   ]
  },
  {
   "cell_type": "code",
   "execution_count": 155,
   "id": "57ed5c8d-43bf-484b-8dab-2d7ba873e93e",
   "metadata": {},
   "outputs": [
    {
     "name": "stdout",
     "output_type": "stream",
     "text": [
      "<class 'pandas.core.frame.DataFrame'>\n",
      "RangeIndex: 303 entries, 0 to 302\n",
      "Data columns (total 14 columns):\n",
      " #   Column    Non-Null Count  Dtype  \n",
      "---  ------    --------------  -----  \n",
      " 0   age       303 non-null    int64  \n",
      " 1   sex       303 non-null    int64  \n",
      " 2   cp        303 non-null    int64  \n",
      " 3   trtbps    303 non-null    int64  \n",
      " 4   chol      303 non-null    int64  \n",
      " 5   fbs       303 non-null    int64  \n",
      " 6   restecg   303 non-null    int64  \n",
      " 7   thalachh  303 non-null    int64  \n",
      " 8   exng      303 non-null    int64  \n",
      " 9   oldpeak   303 non-null    float64\n",
      " 10  slp       303 non-null    int64  \n",
      " 11  caa       303 non-null    int64  \n",
      " 12  thall     303 non-null    int64  \n",
      " 13  output    303 non-null    int64  \n",
      "dtypes: float64(1), int64(13)\n",
      "memory usage: 33.3 KB\n"
     ]
    }
   ],
   "source": [
    "data.info()"
   ]
  },
  {
   "cell_type": "code",
   "execution_count": 156,
   "id": "5b4fa655-e69b-4347-abe1-af670111c886",
   "metadata": {},
   "outputs": [
    {
     "data": {
      "text/html": [
       "<div>\n",
       "<style scoped>\n",
       "    .dataframe tbody tr th:only-of-type {\n",
       "        vertical-align: middle;\n",
       "    }\n",
       "\n",
       "    .dataframe tbody tr th {\n",
       "        vertical-align: top;\n",
       "    }\n",
       "\n",
       "    .dataframe thead th {\n",
       "        text-align: right;\n",
       "    }\n",
       "</style>\n",
       "<table border=\"1\" class=\"dataframe\">\n",
       "  <thead>\n",
       "    <tr style=\"text-align: right;\">\n",
       "      <th></th>\n",
       "      <th>age</th>\n",
       "      <th>sex</th>\n",
       "      <th>cp</th>\n",
       "      <th>trtbps</th>\n",
       "      <th>chol</th>\n",
       "      <th>fbs</th>\n",
       "      <th>restecg</th>\n",
       "      <th>thalachh</th>\n",
       "      <th>exng</th>\n",
       "      <th>oldpeak</th>\n",
       "      <th>slp</th>\n",
       "      <th>caa</th>\n",
       "      <th>thall</th>\n",
       "      <th>output</th>\n",
       "    </tr>\n",
       "  </thead>\n",
       "  <tbody>\n",
       "    <tr>\n",
       "      <th>count</th>\n",
       "      <td>303.000000</td>\n",
       "      <td>303.000000</td>\n",
       "      <td>303.000000</td>\n",
       "      <td>303.000000</td>\n",
       "      <td>303.000000</td>\n",
       "      <td>303.000000</td>\n",
       "      <td>303.000000</td>\n",
       "      <td>303.000000</td>\n",
       "      <td>303.000000</td>\n",
       "      <td>303.000000</td>\n",
       "      <td>303.000000</td>\n",
       "      <td>303.000000</td>\n",
       "      <td>303.000000</td>\n",
       "      <td>303.000000</td>\n",
       "    </tr>\n",
       "    <tr>\n",
       "      <th>mean</th>\n",
       "      <td>54.366337</td>\n",
       "      <td>0.683168</td>\n",
       "      <td>0.966997</td>\n",
       "      <td>131.623762</td>\n",
       "      <td>246.264026</td>\n",
       "      <td>0.148515</td>\n",
       "      <td>0.528053</td>\n",
       "      <td>149.646865</td>\n",
       "      <td>0.326733</td>\n",
       "      <td>1.039604</td>\n",
       "      <td>1.399340</td>\n",
       "      <td>0.729373</td>\n",
       "      <td>2.313531</td>\n",
       "      <td>0.544554</td>\n",
       "    </tr>\n",
       "    <tr>\n",
       "      <th>std</th>\n",
       "      <td>9.082101</td>\n",
       "      <td>0.466011</td>\n",
       "      <td>1.032052</td>\n",
       "      <td>17.538143</td>\n",
       "      <td>51.830751</td>\n",
       "      <td>0.356198</td>\n",
       "      <td>0.525860</td>\n",
       "      <td>22.905161</td>\n",
       "      <td>0.469794</td>\n",
       "      <td>1.161075</td>\n",
       "      <td>0.616226</td>\n",
       "      <td>1.022606</td>\n",
       "      <td>0.612277</td>\n",
       "      <td>0.498835</td>\n",
       "    </tr>\n",
       "    <tr>\n",
       "      <th>min</th>\n",
       "      <td>29.000000</td>\n",
       "      <td>0.000000</td>\n",
       "      <td>0.000000</td>\n",
       "      <td>94.000000</td>\n",
       "      <td>126.000000</td>\n",
       "      <td>0.000000</td>\n",
       "      <td>0.000000</td>\n",
       "      <td>71.000000</td>\n",
       "      <td>0.000000</td>\n",
       "      <td>0.000000</td>\n",
       "      <td>0.000000</td>\n",
       "      <td>0.000000</td>\n",
       "      <td>0.000000</td>\n",
       "      <td>0.000000</td>\n",
       "    </tr>\n",
       "    <tr>\n",
       "      <th>25%</th>\n",
       "      <td>47.500000</td>\n",
       "      <td>0.000000</td>\n",
       "      <td>0.000000</td>\n",
       "      <td>120.000000</td>\n",
       "      <td>211.000000</td>\n",
       "      <td>0.000000</td>\n",
       "      <td>0.000000</td>\n",
       "      <td>133.500000</td>\n",
       "      <td>0.000000</td>\n",
       "      <td>0.000000</td>\n",
       "      <td>1.000000</td>\n",
       "      <td>0.000000</td>\n",
       "      <td>2.000000</td>\n",
       "      <td>0.000000</td>\n",
       "    </tr>\n",
       "    <tr>\n",
       "      <th>50%</th>\n",
       "      <td>55.000000</td>\n",
       "      <td>1.000000</td>\n",
       "      <td>1.000000</td>\n",
       "      <td>130.000000</td>\n",
       "      <td>240.000000</td>\n",
       "      <td>0.000000</td>\n",
       "      <td>1.000000</td>\n",
       "      <td>153.000000</td>\n",
       "      <td>0.000000</td>\n",
       "      <td>0.800000</td>\n",
       "      <td>1.000000</td>\n",
       "      <td>0.000000</td>\n",
       "      <td>2.000000</td>\n",
       "      <td>1.000000</td>\n",
       "    </tr>\n",
       "    <tr>\n",
       "      <th>75%</th>\n",
       "      <td>61.000000</td>\n",
       "      <td>1.000000</td>\n",
       "      <td>2.000000</td>\n",
       "      <td>140.000000</td>\n",
       "      <td>274.500000</td>\n",
       "      <td>0.000000</td>\n",
       "      <td>1.000000</td>\n",
       "      <td>166.000000</td>\n",
       "      <td>1.000000</td>\n",
       "      <td>1.600000</td>\n",
       "      <td>2.000000</td>\n",
       "      <td>1.000000</td>\n",
       "      <td>3.000000</td>\n",
       "      <td>1.000000</td>\n",
       "    </tr>\n",
       "    <tr>\n",
       "      <th>max</th>\n",
       "      <td>77.000000</td>\n",
       "      <td>1.000000</td>\n",
       "      <td>3.000000</td>\n",
       "      <td>200.000000</td>\n",
       "      <td>564.000000</td>\n",
       "      <td>1.000000</td>\n",
       "      <td>2.000000</td>\n",
       "      <td>202.000000</td>\n",
       "      <td>1.000000</td>\n",
       "      <td>6.200000</td>\n",
       "      <td>2.000000</td>\n",
       "      <td>4.000000</td>\n",
       "      <td>3.000000</td>\n",
       "      <td>1.000000</td>\n",
       "    </tr>\n",
       "  </tbody>\n",
       "</table>\n",
       "</div>"
      ],
      "text/plain": [
       "              age         sex          cp      trtbps        chol         fbs  \\\n",
       "count  303.000000  303.000000  303.000000  303.000000  303.000000  303.000000   \n",
       "mean    54.366337    0.683168    0.966997  131.623762  246.264026    0.148515   \n",
       "std      9.082101    0.466011    1.032052   17.538143   51.830751    0.356198   \n",
       "min     29.000000    0.000000    0.000000   94.000000  126.000000    0.000000   \n",
       "25%     47.500000    0.000000    0.000000  120.000000  211.000000    0.000000   \n",
       "50%     55.000000    1.000000    1.000000  130.000000  240.000000    0.000000   \n",
       "75%     61.000000    1.000000    2.000000  140.000000  274.500000    0.000000   \n",
       "max     77.000000    1.000000    3.000000  200.000000  564.000000    1.000000   \n",
       "\n",
       "          restecg    thalachh        exng     oldpeak         slp         caa  \\\n",
       "count  303.000000  303.000000  303.000000  303.000000  303.000000  303.000000   \n",
       "mean     0.528053  149.646865    0.326733    1.039604    1.399340    0.729373   \n",
       "std      0.525860   22.905161    0.469794    1.161075    0.616226    1.022606   \n",
       "min      0.000000   71.000000    0.000000    0.000000    0.000000    0.000000   \n",
       "25%      0.000000  133.500000    0.000000    0.000000    1.000000    0.000000   \n",
       "50%      1.000000  153.000000    0.000000    0.800000    1.000000    0.000000   \n",
       "75%      1.000000  166.000000    1.000000    1.600000    2.000000    1.000000   \n",
       "max      2.000000  202.000000    1.000000    6.200000    2.000000    4.000000   \n",
       "\n",
       "            thall      output  \n",
       "count  303.000000  303.000000  \n",
       "mean     2.313531    0.544554  \n",
       "std      0.612277    0.498835  \n",
       "min      0.000000    0.000000  \n",
       "25%      2.000000    0.000000  \n",
       "50%      2.000000    1.000000  \n",
       "75%      3.000000    1.000000  \n",
       "max      3.000000    1.000000  "
      ]
     },
     "execution_count": 156,
     "metadata": {},
     "output_type": "execute_result"
    }
   ],
   "source": [
    "data.describe()"
   ]
  },
  {
   "cell_type": "code",
   "execution_count": 157,
   "id": "f539368b-d5e0-4c04-9bdd-4e52aed45bc6",
   "metadata": {},
   "outputs": [
    {
     "data": {
      "text/plain": [
       "Index(['age', 'sex', 'cp', 'trtbps', 'chol', 'fbs', 'restecg', 'thalachh',\n",
       "       'exng', 'oldpeak', 'slp', 'caa', 'thall', 'output'],\n",
       "      dtype='object')"
      ]
     },
     "execution_count": 157,
     "metadata": {},
     "output_type": "execute_result"
    }
   ],
   "source": [
    "data.describe().columns"
   ]
  },
  {
   "cell_type": "code",
   "execution_count": 158,
   "id": "df0d39de-cb69-44b2-9f2d-c9fda33cd8e1",
   "metadata": {},
   "outputs": [],
   "source": [
    "# numeric and categorical value separately\n",
    "data_num = data[['age','trtbps','chol','thalachh','oldpeak']]\n",
    "data_cat =data[['sex','cp','fbs','restecg','exng']]\n",
    "#ca is not included?, slp, caa,thall and output"
   ]
  },
  {
   "cell_type": "code",
   "execution_count": 159,
   "id": "d85d4aa8-708b-4af6-af41-c48707ebbb8d",
   "metadata": {},
   "outputs": [
    {
     "data": {
      "image/png": "[encoded data removed]",
      "text/plain": [
       "<Figure size 432x288 with 1 Axes>"
      ]
     },
     "metadata": {},
     "output_type": "display_data"
    },
    {
     "data": {
      "image/png": "[encoded data removed]",
      "text/plain": [
       "<Figure size 432x288 with 1 Axes>"
      ]
     },
     "metadata": {},
     "output_type": "display_data"
    },
    {
     "data": {
      "image/png": "[encoded data removed]",
      "text/plain": [
       "<Figure size 432x288 with 1 Axes>"
      ]
     },
     "metadata": {},
     "output_type": "display_data"
    },
    {
     "data": {
      "image/png": "[encoded data removed]",
      "text/plain": [
       "<Figure size 432x288 with 1 Axes>"
      ]
     },
     "metadata": {},
     "output_type": "display_data"
    },
    {
     "data": {
      "image/png": "[encoded data removed]",
      "text/plain": [
       "<Figure size 432x288 with 1 Axes>"
      ]
     },
     "metadata": {},
     "output_type": "display_data"
    }
   ],
   "source": [
    "for i in data_num.columns:\n",
    "    plt.hist(data_num[i])\n",
    "    plt.title(i)\n",
    "    plt.show()"
   ]
  },
  {
   "cell_type": "code",
   "execution_count": 160,
   "id": "e622b38d-0025-4154-875d-f68325ff00f5",
   "metadata": {},
   "outputs": [
    {
     "name": "stdout",
     "output_type": "stream",
     "text": [
      "               age    trtbps      chol  thalachh   oldpeak\n",
      "age       1.000000  0.279351  0.213678 -0.398522  0.210013\n",
      "trtbps    0.279351  1.000000  0.123174 -0.046698  0.193216\n",
      "chol      0.213678  0.123174  1.000000 -0.009940  0.053952\n",
      "thalachh -0.398522 -0.046698 -0.009940  1.000000 -0.344187\n",
      "oldpeak   0.210013  0.193216  0.053952 -0.344187  1.000000\n"
     ]
    },
    {
     "data": {
      "text/plain": [
       "<AxesSubplot:>"
      ]
     },
     "execution_count": 160,
     "metadata": {},
     "output_type": "execute_result"
    },
    {
     "data": {
      "image/png": "[encoded data removed]",
      "text/plain": [
       "<Figure size 432x288 with 2 Axes>"
      ]
     },
     "metadata": {},
     "output_type": "display_data"
    }
   ],
   "source": [
    "print(data_num.corr())\n",
    "sns.heatmap(data_num.corr())"
   ]
  },
  {
   "cell_type": "code",
   "execution_count": 161,
   "id": "1971baa7-af88-433a-ae03-f16a99c6c644",
   "metadata": {},
   "outputs": [
    {
     "data": {
      "text/html": [
       "<div>\n",
       "<style scoped>\n",
       "    .dataframe tbody tr th:only-of-type {\n",
       "        vertical-align: middle;\n",
       "    }\n",
       "\n",
       "    .dataframe tbody tr th {\n",
       "        vertical-align: top;\n",
       "    }\n",
       "\n",
       "    .dataframe thead th {\n",
       "        text-align: right;\n",
       "    }\n",
       "</style>\n",
       "<table border=\"1\" class=\"dataframe\">\n",
       "  <thead>\n",
       "    <tr style=\"text-align: right;\">\n",
       "      <th></th>\n",
       "      <th>age</th>\n",
       "      <th>chol</th>\n",
       "      <th>oldpeak</th>\n",
       "      <th>thalachh</th>\n",
       "      <th>trtbps</th>\n",
       "    </tr>\n",
       "    <tr>\n",
       "      <th>output</th>\n",
       "      <th></th>\n",
       "      <th></th>\n",
       "      <th></th>\n",
       "      <th></th>\n",
       "      <th></th>\n",
       "    </tr>\n",
       "  </thead>\n",
       "  <tbody>\n",
       "    <tr>\n",
       "      <th>0</th>\n",
       "      <td>56.601449</td>\n",
       "      <td>251.086957</td>\n",
       "      <td>1.585507</td>\n",
       "      <td>139.101449</td>\n",
       "      <td>134.398551</td>\n",
       "    </tr>\n",
       "    <tr>\n",
       "      <th>1</th>\n",
       "      <td>52.496970</td>\n",
       "      <td>242.230303</td>\n",
       "      <td>0.583030</td>\n",
       "      <td>158.466667</td>\n",
       "      <td>129.303030</td>\n",
       "    </tr>\n",
       "  </tbody>\n",
       "</table>\n",
       "</div>"
      ],
      "text/plain": [
       "              age        chol   oldpeak    thalachh      trtbps\n",
       "output                                                         \n",
       "0       56.601449  251.086957  1.585507  139.101449  134.398551\n",
       "1       52.496970  242.230303  0.583030  158.466667  129.303030"
      ]
     },
     "execution_count": 161,
     "metadata": {},
     "output_type": "execute_result"
    }
   ],
   "source": [
    "pd.pivot_table(data, index='output', values=['age','trtbps','chol','thalachh','oldpeak'])\n",
    "#gives you the average age, chol,etc for each catergory of output"
   ]
  },
  {
   "cell_type": "code",
   "execution_count": 162,
   "id": "9fdcb408-b4a8-417f-b606-30533d2d94e9",
   "metadata": {},
   "outputs": [],
   "source": [
    "# histograms are used for numerical data\n",
    "# for i in data_cat.columns:\n",
    "#     plt.hist(data_cat[i])\n",
    "#     plt.title(i)\n",
    "#     plt.show()\n",
    "\n",
    "#bar plots used for catogorical data\n",
    "# for i in data_cat.columns:\n",
    "#         sns.barplot(data_cat[i].value_counts().index, data_cat[i].value_counts()).set_title(i)\n",
    "#         plt.show()\n",
    "        \n",
    "        \n",
    "    "
   ]
  },
  {
   "cell_type": "code",
   "execution_count": 163,
   "id": "07e659d8-2feb-4283-8e59-e87e86c3a63f",
   "metadata": {},
   "outputs": [
    {
     "data": {
      "image/png": "[encoded data removed]",
      "text/plain": [
       "<Figure size 360x360 with 1 Axes>"
      ]
     },
     "metadata": {},
     "output_type": "display_data"
    },
    {
     "data": {
      "image/png": "[encoded data removed]",
      "text/plain": [
       "<Figure size 360x360 with 1 Axes>"
      ]
     },
     "metadata": {},
     "output_type": "display_data"
    },
    {
     "data": {
      "image/png": "[encoded data removed]",
      "text/plain": [
       "<Figure size 360x360 with 1 Axes>"
      ]
     },
     "metadata": {},
     "output_type": "display_data"
    },
    {
     "data": {
      "image/png": "[encoded data removed]",
      "text/plain": [
       "<Figure size 360x360 with 1 Axes>"
      ]
     },
     "metadata": {},
     "output_type": "display_data"
    },
    {
     "data": {
      "image/png": "[encoded data removed]",
      "text/plain": [
       "<Figure size 360x360 with 1 Axes>"
      ]
     },
     "metadata": {},
     "output_type": "display_data"
    }
   ],
   "source": [
    "for i in data_cat.columns:\n",
    "    sns.catplot(x=data_cat[i], kind=\"count\", palette=\"Set2\", data=data_cat)\n",
    "    plt.show()"
   ]
  },
  {
   "cell_type": "code",
   "execution_count": 164,
   "id": "4de0db05-2551-4555-b2ed-28f4c1c0fde8",
   "metadata": {},
   "outputs": [
    {
     "name": "stdout",
     "output_type": "stream",
     "text": [
      "sex             0          1\n",
      "output                      \n",
      "0       59.041667  56.087719\n",
      "1       54.555556  50.903226\n"
     ]
    }
   ],
   "source": [
    "print(pd.pivot_table(data,index='output',columns='sex',values='age'))\n",
    "#gives you the average age of a female with 0 or 1 catergory of heart attack"
   ]
  },
  {
   "cell_type": "code",
   "execution_count": 165,
   "id": "e6ab6d0e-5dc5-44aa-b8a3-b249e8128eb3",
   "metadata": {},
   "outputs": [
    {
     "name": "stdout",
     "output_type": "stream",
     "text": [
      "sex             0          1\n",
      "output                      \n",
      "0       59.041667  56.087719\n",
      "1       54.555556  50.903226\n",
      "================================================================================\n",
      "cp              0          1          2          3\n",
      "output                                            \n",
      "0       56.298077  57.444444  58.500000  55.142857\n",
      "1       54.076923  50.024390  52.217391  56.187500\n",
      "================================================================================\n",
      "fbs             0          1\n",
      "output                      \n",
      "0       56.362069  57.863636\n",
      "1       51.901408  56.173913\n",
      "================================================================================\n",
      "restecg          0          1     2\n",
      "output                             \n",
      "0        57.291139  55.660714  56.0\n",
      "1        53.823529  51.312500  76.0\n",
      "================================================================================\n",
      "exng            0          1\n",
      "output                      \n",
      "0       57.048387  56.236842\n",
      "1       52.316901  53.608696\n",
      "================================================================================\n"
     ]
    }
   ],
   "source": [
    "#pivot table for catagorial data againt age\n",
    "print(pd.pivot_table(data,index='output',columns='sex',values='age'))\n",
    "print('='*80)\n",
    "print(pd.pivot_table(data,index='output',columns='cp',values='age'))\n",
    "print('='*80)\n",
    "print(pd.pivot_table(data,index='output',columns='fbs',values='age'))\n",
    "print('='*80)\n",
    "print(pd.pivot_table(data,index='output',columns='restecg',values='age'))\n",
    "print('='*80)\n",
    "print(pd.pivot_table(data,index='output',columns='exng',values='age'))\n",
    "print('='*80)"
   ]
  },
  {
   "cell_type": "code",
   "execution_count": 166,
   "id": "99cddf37-b904-4425-9c7c-e3b5a7c3ec83",
   "metadata": {},
   "outputs": [
    {
     "name": "stdout",
     "output_type": "stream",
     "text": [
      "sex              0           1\n",
      "output                        \n",
      "0       274.958333  246.061404\n",
      "1       256.750000  230.989247\n",
      "================================================================================\n",
      "cp               0           1          2           3\n",
      "output                                               \n",
      "0       251.932692  263.444444  239.00000  253.714286\n",
      "1       245.333333  240.682927  244.26087  229.875000\n",
      "================================================================================\n",
      "fbs              0           1\n",
      "output                        \n",
      "0       250.094828  256.318182\n",
      "1       242.612676  239.869565\n",
      "================================================================================\n",
      "restecg           0           1           2\n",
      "output                                     \n",
      "0        255.227848  243.517857  283.333333\n",
      "1        255.044118  233.625000  197.000000\n",
      "================================================================================\n",
      "exng             0           1\n",
      "output                        \n",
      "0       246.967742  254.447368\n",
      "1       242.485915  240.652174\n",
      "================================================================================\n"
     ]
    }
   ],
   "source": [
    "#pivot table for catagorial data againt chol\n",
    "print(pd.pivot_table(data,index='output',columns='sex',values='chol'))\n",
    "print('='*80)\n",
    "print(pd.pivot_table(data,index='output',columns='cp',values='chol'))\n",
    "print('='*80)\n",
    "print(pd.pivot_table(data,index='output',columns='fbs',values='chol'))\n",
    "print('='*80)\n",
    "print(pd.pivot_table(data,index='output',columns='restecg',values='chol'))\n",
    "print('='*80)\n",
    "print(pd.pivot_table(data,index='output',columns='exng',values='chol'))\n",
    "print('='*80)"
   ]
  },
  {
   "cell_type": "code",
   "execution_count": 167,
   "id": "9809fa52-5a4b-4596-81e9-0664561c1a65",
   "metadata": {},
   "outputs": [
    {
     "data": {
      "image/png": "[encoded data removed]",
      "text/plain": [
       "<Figure size 432x288 with 1 Axes>"
      ]
     },
     "metadata": {},
     "output_type": "display_data"
    },
    {
     "data": {
      "image/png": "[encoded data removed]",
      "text/plain": [
       "<Figure size 432x288 with 1 Axes>"
      ]
     },
     "metadata": {},
     "output_type": "display_data"
    },
    {
     "data": {
      "image/png": "[encoded data removed]",
      "text/plain": [
       "<Figure size 432x288 with 1 Axes>"
      ]
     },
     "metadata": {},
     "output_type": "display_data"
    },
    {
     "data": {
      "image/png": "[encoded data removed]",
      "text/plain": [
       "<Figure size 432x288 with 1 Axes>"
      ]
     },
     "metadata": {},
     "output_type": "display_data"
    },
    {
     "data": {
      "image/png": "[encoded data removed]",
      "text/plain": [
       "<Figure size 432x288 with 1 Axes>"
      ]
     },
     "metadata": {},
     "output_type": "display_data"
    }
   ],
   "source": [
    "# Data Preprocessing and Normailzation\n",
    "# Use the percentile technique to normalize the columns\n",
    "sns.set_theme(style=\"ticks\", palette=\"pastel\")\n",
    "for i in data_num.columns:\n",
    "    sns.boxplot(x=data_num[i],data=data_num)\n",
    "    plt.title(i)\n",
    "    plt.show()\n",
    "    "
   ]
  },
  {
   "cell_type": "code",
   "execution_count": null,
   "id": "4e1dc8fa-6094-42fa-bb6f-4f9a821906d0",
   "metadata": {},
   "outputs": [],
   "source": []
  },
  {
   "cell_type": "code",
   "execution_count": 168,
   "id": "81ea1fd6-9e68-4d76-96ac-59705887a736",
   "metadata": {},
   "outputs": [],
   "source": [
    "#method to find lower and upper ranges\n",
    "# 1)Calculate the interquartile range for the data.\n",
    "# 2)Multiply the interquartile range (IQR) by 1.5 (a constant used to discern outliers).\n",
    "# 3)Add 1.5 x (IQR) to the third quartile. Any number greater than this is a suspected outlier.\n",
    "# 4)Subtract 1.5 x (IQR) from the first quartile. Any number less than this is a suspected outlier.\n",
    "def outlinefree(dataCol):\n",
    "    \n",
    "    sorted(dataCol)    \n",
    "    Q1,Q3 = np.percentile(dataCol,[25,75]) #get the 25 and 75 percentile\n",
    "    \n",
    "    # getting IQR (interquartile range)\n",
    "    IQR = Q3-Q1\n",
    "    \n",
    "    # getting Lower range error\n",
    "    LowerRange = Q1-(1.5 * IQR)\n",
    "    \n",
    "    # getting upper range error\n",
    "    UpperRange = Q3+(1.5 * IQR)\n",
    "    \n",
    "    # return Lower range and upper range.\n",
    "    return LowerRange,UpperRange"
   ]
  },
  {
   "cell_type": "code",
   "execution_count": 173,
   "id": "2a5994c6-d64e-47e6-96f3-af07f73e78d8",
   "metadata": {},
   "outputs": [],
   "source": [
    "#get lower and upper ranges for colums with a lot outliars\n",
    "lwtrtbps,uptrtbps = outlinefree(data['trtbps'])\n",
    "lwchol,upchol = outlinefree(data['chol'])\n",
    "lwoldpeak,upoldpeak = outlinefree(data['oldpeak'])"
   ]
  },
  {
   "cell_type": "code",
   "execution_count": 175,
   "id": "80a5a7a9-a435-4aab-95ef-3cfa680802a4",
   "metadata": {},
   "outputs": [],
   "source": [
    "data['trtbps'].replace(list(data[data['trtbps'] > uptrtbps].trtbps) ,uptrtbps,inplace=True)\n",
    "data['chol'].replace(list(data[data['chol'] > upchol].chol) ,upchol,inplace=True)\n",
    "data['oldpeak'].replace(list(data[data['oldpeak'] > upoldpeak].oldpeak) ,upoldpeak,inplace=True)"
   ]
  },
  {
   "cell_type": "code",
   "execution_count": 192,
   "id": "3432b9e7-846d-4445-9064-52c7140053d0",
   "metadata": {},
   "outputs": [
    {
     "data": {
      "image/png": "[encoded data removed]",
      "text/plain": [
       "<Figure size 432x288 with 1 Axes>"
      ]
     },
     "metadata": {},
     "output_type": "display_data"
    },
    {
     "data": {
      "image/png": "[encoded data removed]",
      "text/plain": [
       "<Figure size 432x288 with 1 Axes>"
      ]
     },
     "metadata": {},
     "output_type": "display_data"
    },
    {
     "data": {
      "image/png": "[encoded data removed]",
      "text/plain": [
       "<Figure size 432x288 with 1 Axes>"
      ]
     },
     "metadata": {},
     "output_type": "display_data"
    }
   ],
   "source": [
    "#viewing the 3 normalized colums\n",
    "A = data[['trtbps','chol','oldpeak']]\n",
    "for i in A.columns:\n",
    "    sns.boxplot(x=data[i],data=data)\n",
    "    plt.show()\n",
    "    \n",
    "\n",
    "\n",
    "  "
   ]
  },
  {
   "cell_type": "code",
   "execution_count": null,
   "id": "508d8c6a-c1fa-42fa-a743-1ca9c3f88031",
   "metadata": {},
   "outputs": [],
   "source": []
  },
  {
   "cell_type": "code",
   "execution_count": 204,
   "id": "237c6608-379f-4d14-8f35-b3291a18222f",
   "metadata": {},
   "outputs": [],
   "source": [
    "#Feature Engineering\n",
    "features = data.iloc[:,:-1].values #iloc - data.iloc[3] = get 3rd row, .values = returns list\n",
    "label = data.iloc[:,-1].values"
   ]
  },
  {
   "cell_type": "raw",
   "id": "9074b9d6-e9fb-4b89-ad88-1c39153446d7",
   "metadata": {},
   "source": [
    "Model Building\n",
    "F1 is percison score, with score of 1 being perfect"
   ]
  },
  {
   "cell_type": "code",
   "execution_count": 224,
   "id": "cb124288-e90e-4d8e-98d9-618e6f167ec0",
   "metadata": {},
   "outputs": [
    {
     "name": "stdout",
     "output_type": "stream",
     "text": [
      "test score: 0.9210526315789473 train score: 0.8281938325991189 \n",
      "\n"
     ]
    },
    {
     "data": {
      "text/plain": [
       "array([[32,  2],\n",
       "       [ 4, 38]], dtype=int64)"
      ]
     },
     "execution_count": 224,
     "metadata": {},
     "output_type": "execute_result"
    }
   ],
   "source": [
    "#------------------------LogisticRegression----------------------\n",
    "X_train, X_test, y_train, y_test= train_test_split(features,label, test_size= 0.25, random_state=102)\n",
    "#random state is set to 102 for reproducability\n",
    "\n",
    "\n",
    "classimodel= LogisticRegression()  \n",
    "classimodel.fit(X_train, y_train)\n",
    "trainscore =  classimodel.score(X_train,y_train)\n",
    "testscore =  classimodel.score(X_test,y_test)  \n",
    "\n",
    "print(\"test score: {} train score: {}\".format(testscore,trainscore),'\\n')\n",
    "\n",
    "y_pred =  classimodel.predict(X_test)\n",
    "\n",
    "#from sklearn.metrics import confusion_matrix\n",
    "confusion_matrix(y_test, y_pred)"
   ]
  },
  {
   "cell_type": "code",
   "execution_count": 233,
   "id": "1017eee2-002d-4e14-8d51-7992c3e5accf",
   "metadata": {},
   "outputs": [
    {
     "name": "stdout",
     "output_type": "stream",
     "text": [
      "------------------------LogisticRegression----------------------\n",
      " f1 score:  0.47619047619047616 \n",
      "\n",
      " precision score:  0.5 \n",
      "\n",
      " recall score:  0.45454545454545453 \n",
      "\n",
      "              precision    recall  f1-score   support\n",
      "\n",
      "           0       0.33      0.38      0.35        32\n",
      "           1       0.50      0.45      0.48        44\n",
      "\n",
      "    accuracy                           0.42        76\n",
      "   macro avg       0.42      0.41      0.41        76\n",
      "weighted avg       0.43      0.42      0.42        76\n",
      "\n"
     ]
    }
   ],
   "source": [
    "print(\"------------------------LogisticRegression----------------------\")\n",
    "print(' f1 score: ',f1_score(y_test, y_pred),'\\n')\n",
    "print(' precision score: ',precision_score(y_test, y_pred),'\\n')\n",
    "print(' recall score: ',recall_score(y_test, y_pred),'\\n')\n",
    "print(classification_report(y_test, y_pred))"
   ]
  },
  {
   "cell_type": "code",
   "execution_count": 234,
   "id": "72898e0b-1a5f-4b38-8dd1-57408d6d8069",
   "metadata": {},
   "outputs": [
    {
     "name": "stdout",
     "output_type": "stream",
     "text": [
      "test score: 0.75 train score: 0.748898678414097 \n",
      "\n",
      "[[22 10]\n",
      " [ 9 35]]\n"
     ]
    }
   ],
   "source": [
    "#--------------------------------------K-Nearest Neighbor(KNN)-----------------\n",
    "X_train, X_test, y_train, y_test= train_test_split(features,label, test_size= 0.25, random_state=193) \n",
    "\n",
    "\n",
    "classifier= KNeighborsClassifier()  \n",
    "knnmodel =  classifier.fit(X_train, y_train) \n",
    "\n",
    "trainscore =  knnmodel.score(X_train,y_train)\n",
    "testscore =  knnmodel.score(X_test,y_test)  \n",
    "\n",
    "print(\"test score: {} train score: {}\".format(testscore,trainscore),'\\n')\n",
    "\n",
    "y_predknn =  knnmodel.predict(X_test)\n",
    "\n",
    "print(confusion_matrix(y_test, y_predknn))"
   ]
  },
  {
   "cell_type": "code",
   "execution_count": 235,
   "id": "581fa9d1-639e-4b64-b179-9b633b147107",
   "metadata": {},
   "outputs": [
    {
     "name": "stdout",
     "output_type": "stream",
     "text": [
      "--------------------------------------K-Nearest Neighbor(KNN)-----------------\n",
      "f1_score:  0.7865168539325843 \n",
      "\n",
      "precision_score:  0.7777777777777778 \n",
      "\n",
      "recall_score:  0.7954545454545454 \n",
      "\n",
      "              precision    recall  f1-score   support\n",
      "\n",
      "           0       0.71      0.69      0.70        32\n",
      "           1       0.78      0.80      0.79        44\n",
      "\n",
      "    accuracy                           0.75        76\n",
      "   macro avg       0.74      0.74      0.74        76\n",
      "weighted avg       0.75      0.75      0.75        76\n",
      "\n"
     ]
    }
   ],
   "source": [
    "print(\"--------------------------------------K-Nearest Neighbor(KNN)-----------------\")\n",
    "print(\"f1_score: \",f1_score(y_test, y_predknn),'\\n')\n",
    "print(\"precision_score: \",precision_score(y_test, y_predknn),'\\n')\n",
    "print(\"recall_score: \",recall_score(y_test, y_predknn),'\\n')\n",
    "print(classification_report(y_test, y_predknn))"
   ]
  },
  {
   "cell_type": "code",
   "execution_count": 236,
   "id": "fae087ad-1182-4fe6-8e4f-f572f7010833",
   "metadata": {},
   "outputs": [
    {
     "name": "stdout",
     "output_type": "stream",
     "text": [
      "test score: 0.8947368421052632 train score: 0.8370044052863436 \n",
      "\n",
      "[[28  5]\n",
      " [ 3 40]]\n"
     ]
    }
   ],
   "source": [
    "#------------------------------naive bayes---------------------------\n",
    "X_train, X_test, y_train, y_test= train_test_split(features,label, test_size= 0.25, random_state=34) \n",
    "\n",
    "NBmodel = GaussianNB()  \n",
    "NBmodel.fit(X_train, y_train) \n",
    "\n",
    "trainscore =  NBmodel.score(X_train,y_train)\n",
    "testscore =  NBmodel.score(X_test,y_test)  \n",
    "\n",
    "print(\"test score: {} train score: {}\".format(testscore,trainscore),'\\n')\n",
    "y_predNB =  NBmodel.predict(X_test)\n",
    "print(confusion_matrix(y_test, y_predNB))"
   ]
  },
  {
   "cell_type": "code",
   "execution_count": 238,
   "id": "379ed0d4-a862-4c25-ad8b-a02e3fa3405c",
   "metadata": {},
   "outputs": [
    {
     "name": "stdout",
     "output_type": "stream",
     "text": [
      "------------------------------naive bayes---------------------------\n",
      "f1_score:  0.9090909090909092 \n",
      "\n",
      "precision_score:  0.8888888888888888 \n",
      "\n",
      "recall_score:  0.9302325581395349 \n",
      "\n",
      "              precision    recall  f1-score   support\n",
      "\n",
      "           0       0.90      0.85      0.88        33\n",
      "           1       0.89      0.93      0.91        43\n",
      "\n",
      "    accuracy                           0.89        76\n",
      "   macro avg       0.90      0.89      0.89        76\n",
      "weighted avg       0.90      0.89      0.89        76\n",
      "\n"
     ]
    }
   ],
   "source": [
    "print(\"------------------------------naive bayes---------------------------\")\n",
    "print(\"f1_score: \",f1_score(y_test, y_predNB),'\\n')\n",
    "print(\"precision_score: \",precision_score(y_test, y_predNB),'\\n')\n",
    "print(\"recall_score: \",recall_score(y_test, y_predNB),'\\n')\n",
    "print(classification_report(y_test, y_predNB))"
   ]
  },
  {
   "cell_type": "code",
   "execution_count": 239,
   "id": "2cbd8fab-1419-4ba4-8ebd-8663fe49c8e2",
   "metadata": {},
   "outputs": [
    {
     "name": "stdout",
     "output_type": "stream",
     "text": [
      "test score: 0.75 train score: 0.6916299559471366 \n",
      "\n",
      "[[19 10]\n",
      " [ 9 38]]\n"
     ]
    }
   ],
   "source": [
    "#-------------------------------- support vector classification -------------------------------------  \n",
    "X_train, X_test, y_train, y_test= train_test_split(features,label, test_size= 0.25, random_state=8) \n",
    "\n",
    "svcmodel = SVC(probability=True)  \n",
    "svcmodel.fit(X_train, y_train) \n",
    "\n",
    "trainscore =  svcmodel.score(X_train,y_train)\n",
    "testscore =  svcmodel.score(X_test,y_test)  \n",
    "\n",
    "print(\"test score: {} train score: {}\".format(testscore,trainscore),'\\n')\n",
    "\n",
    "y_predsvc =  svcmodel.predict(X_test)\n",
    "\n",
    "print(confusion_matrix(y_test, y_predsvc))"
   ]
  },
  {
   "cell_type": "code",
   "execution_count": 244,
   "id": "9b1f1bd9-533f-4af8-880b-6143ad992142",
   "metadata": {},
   "outputs": [
    {
     "name": "stdout",
     "output_type": "stream",
     "text": [
      "#--------------------------- support vector classification -------------------------\n",
      "f1_score:  0.7999999999999999 \n",
      "\n",
      "precision_score:  0.7916666666666666 \n",
      "\n",
      "recall_score:  0.8085106382978723 \n",
      "\n",
      "              precision    recall  f1-score   support\n",
      "\n",
      "           0       0.68      0.66      0.67        29\n",
      "           1       0.79      0.81      0.80        47\n",
      "\n",
      "    accuracy                           0.75        76\n",
      "   macro avg       0.74      0.73      0.73        76\n",
      "weighted avg       0.75      0.75      0.75        76\n",
      " \n",
      "\n"
     ]
    }
   ],
   "source": [
    "print(\"#--------------------------- support vector classification -------------------------\")\n",
    "print(\"f1_score: \",f1_score(y_test, y_predsvc),'\\n')\n",
    "print(\"precision_score: \",precision_score(y_test, y_predsvc),'\\n')\n",
    "print(\"recall_score: \",recall_score(y_test, y_predsvc),'\\n')\n",
    "print(classification_report(y_test, y_predsvc),'\\n')"
   ]
  },
  {
   "cell_type": "raw",
   "id": "0e460679-f8f6-42fe-b106-975300b5b426",
   "metadata": {},
   "source": [
    "ROC Curve"
   ]
  },
  {
   "cell_type": "code",
   "execution_count": 247,
   "id": "43a1270d-8709-4781-b0d3-121b4beb42c2",
   "metadata": {},
   "outputs": [
    {
     "name": "stdout",
     "output_type": "stream",
     "text": [
      "0.9214756258234519\n"
     ]
    },
    {
     "data": {
      "text/plain": [
       "[<matplotlib.lines.Line2D at 0x2624f9ad4c0>]"
      ]
     },
     "execution_count": 247,
     "metadata": {},
     "output_type": "execute_result"
    },
    {
     "data": {
      "image/png": "[encoded data removed]",
      "text/plain": [
       "<Figure size 432x288 with 1 Axes>"
      ]
     },
     "metadata": {},
     "output_type": "display_data"
    }
   ],
   "source": [
    "#-------------------------------------- LogisticRegression -------------------------------------\n",
    "probabilityValues = classimodel.predict_proba(features)[:,1]\n",
    "#Calculate AUC\n",
    "auc = roc_auc_score(label,probabilityValues)\n",
    "print(auc)\n",
    "#Calculate roc_curve\n",
    "fpr,tpr, threshold =  roc_curve(label,probabilityValues)\n",
    "plt.plot([0,1],[0,1], linestyle = '--')\n",
    "plt.plot(fpr,tpr)"
   ]
  },
  {
   "cell_type": "code",
   "execution_count": null,
   "id": "85b360b1-f5e8-4723-a585-002909b543d6",
   "metadata": {},
   "outputs": [],
   "source": []
  },
  {
   "cell_type": "code",
   "execution_count": null,
   "id": "4176ca0b-57b6-4b18-acb6-63c14c33ef46",
   "metadata": {},
   "outputs": [],
   "source": []
  },
  {
   "cell_type": "code",
   "execution_count": null,
   "id": "65bcf30d-70b5-4509-8f7f-7766611d8c73",
   "metadata": {},
   "outputs": [],
   "source": []
  },
  {
   "cell_type": "code",
   "execution_count": null,
   "id": "6ace37c9-cac4-4306-8823-c6af79abfc37",
   "metadata": {},
   "outputs": [],
   "source": []
  },
  {
   "cell_type": "code",
   "execution_count": null,
   "id": "b5f30c61-ad49-41f6-b69d-0ed68120b4d7",
   "metadata": {},
   "outputs": [],
   "source": []
  },
  {
   "cell_type": "code",
   "execution_count": null,
   "id": "2ee88e01-0c71-45c6-a478-e21216b96a1f",
   "metadata": {},
   "outputs": [],
   "source": []
  },
  {
   "cell_type": "code",
   "execution_count": null,
   "id": "cded7d31-68f7-4c48-baa2-713a6ee463db",
   "metadata": {},
   "outputs": [],
   "source": []
  },
  {
   "cell_type": "code",
   "execution_count": null,
   "id": "bdc31633-ed12-483b-a4eb-bce96320e5cb",
   "metadata": {},
   "outputs": [],
   "source": []
  },
  {
   "cell_type": "code",
   "execution_count": null,
   "id": "817588cf-193f-44ef-98e1-e097f21ad283",
   "metadata": {},
   "outputs": [],
   "source": []
  },
  {
   "cell_type": "code",
   "execution_count": null,
   "id": "e476136e-c8f1-47f1-8e44-df7ddb9cd43f",
   "metadata": {},
   "outputs": [],
   "source": []
  },
  {
   "cell_type": "code",
   "execution_count": null,
   "id": "0c58cefd-88bd-44b7-affb-726e349ab15e",
   "metadata": {},
   "outputs": [],
   "source": []
  },
  {
   "cell_type": "code",
   "execution_count": null,
   "id": "da777865-9bef-4128-a06e-9bda37fb84a5",
   "metadata": {},
   "outputs": [],
   "source": []
  },
  {
   "cell_type": "code",
   "execution_count": null,
   "id": "3f83ba09-94c9-427f-9c76-0dc080aefaec",
   "metadata": {},
   "outputs": [],
   "source": []
  },
  {
   "cell_type": "code",
   "execution_count": null,
   "id": "fde6d5fc-fe68-4cf6-a0d8-aeff9d15cb3a",
   "metadata": {},
   "outputs": [],
   "source": []
  },
  {
   "cell_type": "code",
   "execution_count": null,
   "id": "1007bfe1-1dfd-423c-8eb5-c3fed6d80a33",
   "metadata": {},
   "outputs": [],
   "source": []
  },
  {
   "cell_type": "code",
   "execution_count": null,
   "id": "1bed3b12-a291-4d25-a84e-181338cc76ff",
   "metadata": {},
   "outputs": [],
   "source": []
  },
  {
   "cell_type": "code",
   "execution_count": null,
   "id": "4b6c5625-74b7-48a1-9a55-561b48ea2c58",
   "metadata": {},
   "outputs": [],
   "source": []
  }
 ],
 "metadata": {
  "kernelspec": {
   "display_name": "Python 3",
   "language": "python",
   "name": "python3"
  },
  "language_info": {
   "codemirror_mode": {
    "name": "ipython",
    "version": 3
   },
   "file_extension": ".py",
   "mimetype": "text/x-python",
   "name": "python",
   "nbconvert_exporter": "python",
   "pygments_lexer": "ipython3",
   "version": "3.8.8"
  }
 },
 "nbformat": 4,
 "nbformat_minor": 5
}
